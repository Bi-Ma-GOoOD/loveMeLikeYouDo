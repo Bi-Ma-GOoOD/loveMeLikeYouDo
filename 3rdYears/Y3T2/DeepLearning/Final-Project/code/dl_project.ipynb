{
 "cells": [
  {
   "cell_type": "code",
   "execution_count": 1,
   "metadata": {},
   "outputs": [
    {
     "name": "stdout",
     "output_type": "stream",
     "text": [
      "Ultralytics 8.3.75  Python-3.10.15 torch-2.6.0.dev20241206+cu118 CUDA:0 (NVIDIA GeForce RTX 3070, 8192MiB)\n",
      "Setup complete  (16 CPUs, 15.9 GB RAM, 492.5/931.5 GB disk)\n"
     ]
    }
   ],
   "source": [
    "import ultralytics\n",
    "ultralytics.checks()"
   ]
  },
  {
   "cell_type": "code",
   "execution_count": 2,
   "metadata": {},
   "outputs": [
    {
     "name": "stdout",
     "output_type": "stream",
     "text": [
      "\n",
      "image 1/1 D:\\AB-BiMaGOoOD\\Tob-taun\\3rdYears\\Y3T2\\DeepLearning\\Final-Project\\dataset\\temp\\allTeam.jpg: 384x640 4 kites, 58.0ms\n",
      "Speed: 2.9ms preprocess, 58.0ms inference, 60.3ms postprocess per image at shape (1, 3, 384, 640)\n"
     ]
    },
    {
     "ename": "",
     "evalue": "",
     "output_type": "error",
     "traceback": [
      "\u001b[1;31mThe Kernel crashed while executing code in the current cell or a previous cell. \n",
      "\u001b[1;31mPlease review the code in the cell(s) to identify a possible cause of the failure. \n",
      "\u001b[1;31mClick <a href='https://aka.ms/vscodeJupyterKernelCrash'>here</a> for more info. \n",
      "\u001b[1;31mView Jupyter <a href='command:jupyter.viewOutput'>log</a> for further details."
     ]
    }
   ],
   "source": [
    "from ultralytics import YOLO\n",
    "\n",
    "image = 'D:\\\\AB-BiMaGOoOD\\\\Tob-taun\\\\3rdYears\\\\Y3T2\\\\DeepLearning\\\\Final-Project\\\\dataset\\\\temp\\\\allTeam.jpg'\n",
    "\n",
    "# Load the YOLOv8 model (Pretrained)\n",
    "model = YOLO(\"yolov8n.pt\")  # 'n' is the smallest, other options: yolov8s, yolov8m, yolov8l, yolov8x\n",
    "\n",
    "# Run inference on an image\n",
    "results = model(image, show=True)  # show=True will display the output image\n"
   ]
  }
 ],
 "metadata": {
  "kernelspec": {
   "display_name": "dl_env_1115",
   "language": "python",
   "name": "python3"
  },
  "language_info": {
   "codemirror_mode": {
    "name": "ipython",
    "version": 3
   },
   "file_extension": ".py",
   "mimetype": "text/x-python",
   "name": "python",
   "nbconvert_exporter": "python",
   "pygments_lexer": "ipython3",
   "version": "3.10.15"
  }
 },
 "nbformat": 4,
 "nbformat_minor": 2
}
